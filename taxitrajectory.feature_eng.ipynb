{
 "cells": [
  {
   "cell_type": "markdown",
   "metadata": {},
   "source": [
    "# Taxi Trajectory Prediction"
   ]
  },
  {
   "cell_type": "markdown",
   "metadata": {},
   "source": [
    "This notebook is part of the Coursera, IBM Advanced Data Science Capstone Project\n",
    "Cerated by Engin Cicek, ecicek@gmail.com\n",
    "\n",
    "Data used in this Capstone Project is found on kaggle website titled as \"ECML/PKDD 15: Taxi Trajectory Prediction (I)\" \n",
    "\n",
    "Dataset can be found at : https://www.kaggle.com/c/pkdd-15-predict-taxi-service-trajectory-i"
   ]
  },
  {
   "cell_type": "markdown",
   "metadata": {},
   "source": [
    "---------------------------------------------------------------------------------------------------------------\n",
    "\n",
    "FEATURE ENGINEERING STAGE:\n",
    "\n",
    "---------------------------------------------------------------------------------------------------------------"
   ]
  },
  {
   "cell_type": "code",
   "execution_count": 1,
   "metadata": {},
   "outputs": [],
   "source": [
    "import pandas as pd\n",
    "import numpy as np\n",
    "import matplotlib.pyplot as plt\n",
    "\n",
    "import json\n",
    "\n",
    "from math import sqrt\n",
    "from datetime import datetime\n",
    "\n",
    "from sklearn import preprocessing, linear_model, metrics"
   ]
  },
  {
   "cell_type": "code",
   "execution_count": 2,
   "metadata": {},
   "outputs": [],
   "source": [
    "%matplotlib inline"
   ]
  },
  {
   "cell_type": "markdown",
   "metadata": {},
   "source": [
    "Getting Data"
   ]
  },
  {
   "cell_type": "code",
   "execution_count": 3,
   "metadata": {},
   "outputs": [],
   "source": [
    "df = pd.read_csv('train2.csv')"
   ]
  },
  {
   "cell_type": "markdown",
   "metadata": {},
   "source": [
    "I will transform and generate new features from TIMESTAMP column and POLYLINE column. Newly created features (date, time, trip starting and ending locations) will then be used to create additional features like month of the year, day of the week, hour of the day, trip distance, duration etc."
   ]
  },
  {
   "cell_type": "markdown",
   "metadata": {},
   "source": [
    "-------------------------------------------------------------------------------------------------------------\n",
    "\n",
    "New Features to be generated from 'TIMESTAMP' Column :\n",
    "\n",
    "- 'date_time'   : Date and time value in datetime format\n",
    "\n",
    "- 'month'       : Month of the Year Value extracted from 'date_time' column (numeric - Integer - 0,1,2, ... ,11)\n",
    "\n",
    "- 'day_of_week' : Day of the Week Value from 'date_time' column (numeric - Integer - 0 Monday, ... , 6 Sunday)\n",
    "\n",
    "- 'hour_of_day' : Hour of the Day Value extracted from 'date_time' column (numeric - Integer - 0,1,2, ... ,23) \n"
   ]
  },
  {
   "cell_type": "code",
   "execution_count": 4,
   "metadata": {},
   "outputs": [],
   "source": [
    "t=pd.to_datetime(df['TIMESTAMP'], unit='s')"
   ]
  },
  {
   "cell_type": "code",
   "execution_count": 5,
   "metadata": {},
   "outputs": [],
   "source": [
    "df['date_time']=t"
   ]
  },
  {
   "cell_type": "markdown",
   "metadata": {},
   "source": [
    "MONTH OF THE YEAR :"
   ]
  },
  {
   "cell_type": "code",
   "execution_count": 6,
   "metadata": {},
   "outputs": [],
   "source": [
    "df['month']=[x.month for x in t]"
   ]
  },
  {
   "cell_type": "code",
   "execution_count": 7,
   "metadata": {},
   "outputs": [
    {
     "data": {
      "text/plain": [
       "(array([130874., 129872., 138969., 137060., 162106., 153095., 145639.,\n",
       "        125860., 147513., 153393., 286279.]),\n",
       " array([ 1.,  2.,  3.,  4.,  5.,  6.,  7.,  8.,  9., 10., 11., 12.]),\n",
       " <a list of 11 Patch objects>)"
      ]
     },
     "execution_count": 7,
     "metadata": {},
     "output_type": "execute_result"
    },
    {
     "data": {
      "image/png": "[encoded data removed]",
      "text/plain": [
       "<matplotlib.figure.Figure at 0x7f7fa8a1ec88>"
      ]
     },
     "metadata": {},
     "output_type": "display_data"
    }
   ],
   "source": [
    "plt.hist(df['month'],bins=11)"
   ]
  },
  {
   "cell_type": "code",
   "execution_count": 8,
   "metadata": {},
   "outputs": [
    {
     "data": {
      "text/plain": [
       "8     125860\n",
       "2     129872\n",
       "1     130874\n",
       "4     137060\n",
       "3     138969\n",
       "11    140024\n",
       "7     145639\n",
       "12    146255\n",
       "9     147513\n",
       "6     153095\n",
       "10    153393\n",
       "5     162106\n",
       "Name: month, dtype: int64"
      ]
     },
     "execution_count": 8,
     "metadata": {},
     "output_type": "execute_result"
    }
   ],
   "source": [
    "df['month'].value_counts(ascending=True)"
   ]
  },
  {
   "cell_type": "code",
   "execution_count": 9,
   "metadata": {},
   "outputs": [
    {
     "data": {
      "text/plain": [
       "0"
      ]
     },
     "execution_count": 9,
     "metadata": {},
     "output_type": "execute_result"
    }
   ],
   "source": [
    "df['month'].isnull().sum()"
   ]
  },
  {
   "cell_type": "markdown",
   "metadata": {},
   "source": [
    "DAY OF THE WEEK :"
   ]
  },
  {
   "cell_type": "code",
   "execution_count": 10,
   "metadata": {},
   "outputs": [],
   "source": [
    "df['day_of_week']= [x.dayofweek for x in t]"
   ]
  },
  {
   "cell_type": "code",
   "execution_count": 11,
   "metadata": {},
   "outputs": [
    {
     "data": {
      "text/plain": [
       "(array([229948., 234731., 232616., 247025., 277311., 489029.]),\n",
       " array([0., 1., 2., 3., 4., 5., 6.]),\n",
       " <a list of 6 Patch objects>)"
      ]
     },
     "execution_count": 11,
     "metadata": {},
     "output_type": "execute_result"
    },
    {
     "data": {
      "image/png": "[encoded data removed]",
      "text/plain": [
       "<matplotlib.figure.Figure at 0x7f7fa7b0f358>"
      ]
     },
     "metadata": {},
     "output_type": "display_data"
    }
   ],
   "source": [
    "plt.hist(df['day_of_week'],bins=6)"
   ]
  },
  {
   "cell_type": "code",
   "execution_count": 12,
   "metadata": {
    "scrolled": true
   },
   "outputs": [
    {
     "data": {
      "text/plain": [
       "0    229948\n",
       "6    230395\n",
       "2    232616\n",
       "1    234731\n",
       "3    247025\n",
       "5    258634\n",
       "4    277311\n",
       "Name: day_of_week, dtype: int64"
      ]
     },
     "execution_count": 12,
     "metadata": {},
     "output_type": "execute_result"
    }
   ],
   "source": [
    "df['day_of_week'].value_counts(ascending=True)"
   ]
  },
  {
   "cell_type": "code",
   "execution_count": 13,
   "metadata": {},
   "outputs": [
    {
     "data": {
      "text/plain": [
       "0"
      ]
     },
     "execution_count": 13,
     "metadata": {},
     "output_type": "execute_result"
    }
   ],
   "source": [
    "df['day_of_week'].isnull().sum()"
   ]
  },
  {
   "cell_type": "markdown",
   "metadata": {},
   "source": [
    "HOUR OF THE DAY :"
   ]
  },
  {
   "cell_type": "code",
   "execution_count": 14,
   "metadata": {},
   "outputs": [],
   "source": [
    "df['hour_of_day']=[x.hour for x in t] "
   ]
  },
  {
   "cell_type": "code",
   "execution_count": 15,
   "metadata": {},
   "outputs": [
    {
     "data": {
      "text/plain": [
       "(array([ 49242.,  48663.,  48417.,  55351.,  58514.,  53718.,  53256.,\n",
       "         69063.,  93032.,  98564.,  91620.,  86002.,  83295.,  88551.,\n",
       "         92541.,  90972.,  88444.,  84152.,  78369.,  71068.,  67380.,\n",
       "         59516., 100930.]),\n",
       " array([ 0.,  1.,  2.,  3.,  4.,  5.,  6.,  7.,  8.,  9., 10., 11., 12.,\n",
       "        13., 14., 15., 16., 17., 18., 19., 20., 21., 22., 23.]),\n",
       " <a list of 23 Patch objects>)"
      ]
     },
     "execution_count": 15,
     "metadata": {},
     "output_type": "execute_result"
    },
    {
     "data": {
      "image/png": "[encoded data removed]",
      "text/plain": [
       "<matplotlib.figure.Figure at 0x7f7fa7adefd0>"
      ]
     },
     "metadata": {},
     "output_type": "display_data"
    }
   ],
   "source": [
    "plt.hist(df['hour_of_day'],bins=23)"
   ]
  },
  {
   "cell_type": "code",
   "execution_count": 16,
   "metadata": {},
   "outputs": [
    {
     "data": {
      "text/plain": [
       "2     48417\n",
       "1     48663\n",
       "23    48761\n",
       "0     49242\n",
       "22    52169\n",
       "6     53256\n",
       "5     53718\n",
       "3     55351\n",
       "4     58514\n",
       "21    59516\n",
       "20    67380\n",
       "7     69063\n",
       "19    71068\n",
       "18    78369\n",
       "12    83295\n",
       "17    84152\n",
       "11    86002\n",
       "16    88444\n",
       "13    88551\n",
       "15    90972\n",
       "10    91620\n",
       "14    92541\n",
       "8     93032\n",
       "9     98564\n",
       "Name: hour_of_day, dtype: int64"
      ]
     },
     "execution_count": 16,
     "metadata": {},
     "output_type": "execute_result"
    }
   ],
   "source": [
    "df['hour_of_day'].value_counts(ascending=True)"
   ]
  },
  {
   "cell_type": "code",
   "execution_count": 17,
   "metadata": {},
   "outputs": [
    {
     "data": {
      "text/plain": [
       "0"
      ]
     },
     "execution_count": 17,
     "metadata": {},
     "output_type": "execute_result"
    }
   ],
   "source": [
    "df['hour_of_day'].isnull().sum()"
   ]
  },
  {
   "cell_type": "markdown",
   "metadata": {},
   "source": [
    "-------------------------------------------------------------------------------------------------------------------------\n",
    "\n",
    "New Features to be generated from 'POLYLINE' Column :\n",
    "\n",
    "- 'start_location' : Starting Location [Longitude,Latitude] Coordinates\n",
    "\n",
    "- 'end_location'   : Ending Location [Longitude, Latitude] Coordinates\n",
    "\n",
    "- 'dist_travelled' : Total Distance Traveled From Start to the End Location on the Trip (Numeric - Float)\n",
    "\n",
    "- 'nlegs'          : Number of Intermediate Points Between Start-End (start and end points excluded) (numeric - Integer)\n",
    "\n",
    "Traveled distance calculation has been calculated not only with starting and ending locations, but also with every coordinates passed during the trip which are also available in POLYLINE column.\n",
    "\n",
    "Using eucliedean distance calculation between two cooordinates does not give the accurate result because of the earth's shape and distance between longitudes change depending on the location (it is largest at the equator and zero at the poles). Therefore, I used two constants (one for unit latitudes and one for longitude) that are valid for the location of city of Porto relative to the equator by using this web site as a reference. https://www.movable-type.co.uk/scripts/latlong.html.\n",
    "\n",
    "The calculated distances travelled are verified (with 3 digits accuracy in kilometers) from the same web page referenced above."
   ]
  },
  {
   "cell_type": "code",
   "execution_count": 18,
   "metadata": {},
   "outputs": [],
   "source": [
    "# Constants that will be used in calculations\n",
    "\n",
    "# Distance between 1 degree of latitude and longitude respectiveley (in kilometers)\n",
    "long_dist_unit=83.92\n",
    "lat_dist_unit=111.2\n",
    "\n",
    "# Time_elapse between two consequtive GPS location recordings (in minutes)\n",
    "te=0.25"
   ]
  },
  {
   "cell_type": "code",
   "execution_count": 20,
   "metadata": {},
   "outputs": [],
   "source": [
    "# Code Block for extracting coordinates from POLYLINE column and generate new features mentioned above\n",
    "\n",
    "# Empty lists to be filled for distance, duration of trip, starting location, ending location, average speed\n",
    "dis=[]\n",
    "dur=[]\n",
    "first_loc=[]\n",
    "last_loc=[]\n",
    "avg_s=[]\n",
    "\n",
    "# Looping through every row\n",
    "for r in range(df.shape[0]):\n",
    "    x=json.loads(df.loc[r,'POLYLINE'])\n",
    "    \n",
    "    k=1\n",
    "    d=0\n",
    "    time_elapsed=0\n",
    "    \n",
    "    #if no GPS recording\n",
    "    if len(x)==0:\n",
    "        loc1=[]\n",
    "        loc2=[]\n",
    "    \n",
    "    #if only one GPS recording (probably only the starting location, but we may not be sure)\n",
    "    if len(x)==1:\n",
    "        loc1=x[0]\n",
    "        loc2=[]\n",
    "    \n",
    "    #if there is at least 2 GPS locations are recorded (first and the last will be counted as start-end)\n",
    "    else: \n",
    "        for locs in x:\n",
    "            if k==1:\n",
    "                loc1=locs\n",
    "                temp_loc=locs\n",
    "            else:\n",
    "                loc2=locs\n",
    "                d=d+sqrt(((temp_loc[0]-loc2[0])*long_dist_unit)**2+((temp_loc[1]-loc2[1])*lat_dist_unit)**2)\n",
    "                temp_loc=locs\n",
    "                if k==len(x):\n",
    "                    time_elapsed=time_elapsed+0.1\n",
    "                else:\n",
    "                    time_elapsed=time_elapsed+te\n",
    "                    \n",
    "            k=k+1\n",
    "    \n",
    "    #appending the calculated values to lists\n",
    "    dis.append(d)\n",
    "    dur.append(time_elapsed)\n",
    "    first_loc.append(loc1)\n",
    "    last_loc.append(loc2)\n",
    "    \n",
    "    if time_elapsed>0:\n",
    "        avg_s.append(d/time_elapsed)\n",
    "    else:\n",
    "        avg_s.append(0)\n",
    "\n",
    "#Converting lists to Series Objects and adding them as new columns to our dataframe\n",
    "st_loc=pd.Series(first_loc)\n",
    "df['start_location']=st_loc\n",
    "\n",
    "end_loc=pd.Series(last_loc)\n",
    "df['end_location']=end_loc\n",
    "\n",
    "dist=pd.Series(dis)\n",
    "df['dist_travelled']=dist\n",
    "\n",
    "duration=pd.Series(dur)\n",
    "df['trip_duration']=duration\n",
    "\n",
    "avg_sp=pd.Series(avg_s)\n",
    "df['average_speed']=avg_sp\n",
    "\n",
    "# time_elapsed right before end of trip is added as 6 secs (0.1 mins).\n",
    "# In fact it is not known (definetely less than 15 secs but more that 0)"
   ]
  },
  {
   "cell_type": "markdown",
   "metadata": {},
   "source": [
    "START AND END LOCATIONS :\n",
    "\n",
    "These are newly created columns. We need to check if there is missing value."
   ]
  },
  {
   "cell_type": "code",
   "execution_count": null,
   "metadata": {},
   "outputs": [],
   "source": []
  },
  {
   "cell_type": "markdown",
   "metadata": {},
   "source": [
    "DISTANCE TRAVELED :\n",
    "\n",
    "These are newly created columns. We need to check if there any missing value, outlier etc."
   ]
  },
  {
   "cell_type": "code",
   "execution_count": 38,
   "metadata": {},
   "outputs": [
    {
     "data": {
      "text/plain": [
       "{'boxes': [<matplotlib.lines.Line2D at 0x7f3a2d971d68>],\n",
       " 'caps': [<matplotlib.lines.Line2D at 0x7f3a2d979748>,\n",
       "  <matplotlib.lines.Line2D at 0x7f3a2d979b70>],\n",
       " 'fliers': [<matplotlib.lines.Line2D at 0x7f3a2d903400>],\n",
       " 'means': [],\n",
       " 'medians': [<matplotlib.lines.Line2D at 0x7f3a2d979f98>],\n",
       " 'whiskers': [<matplotlib.lines.Line2D at 0x7f3a2d971eb8>,\n",
       "  <matplotlib.lines.Line2D at 0x7f3a2d979320>]}"
      ]
     },
     "execution_count": 38,
     "metadata": {},
     "output_type": "execute_result"
    },
    {
     "data": {
      "image/png": "[encoded data removed]",
      "text/plain": [
       "<matplotlib.figure.Figure at 0x7f3a61127dd8>"
      ]
     },
     "metadata": {},
     "output_type": "display_data"
    }
   ],
   "source": [
    "plt.boxplot(df['dist_travelled'])"
   ]
  },
  {
   "cell_type": "code",
   "execution_count": 39,
   "metadata": {},
   "outputs": [
    {
     "data": {
      "text/plain": [
       "count    1.710670e+06\n",
       "mean     5.512222e+00\n",
       "std      7.783789e+00\n",
       "min      0.000000e+00\n",
       "25%      2.373003e+00\n",
       "50%      3.941288e+00\n",
       "75%      6.549381e+00\n",
       "max      1.248232e+03\n",
       "Name: dist_travelled, dtype: float64"
      ]
     },
     "execution_count": 39,
     "metadata": {},
     "output_type": "execute_result"
    }
   ],
   "source": [
    "df['dist_travelled'].describe()"
   ]
  },
  {
   "cell_type": "code",
   "execution_count": 52,
   "metadata": {},
   "outputs": [],
   "source": [
    "near_distance=df.loc[df['trip_duration']==0,['POLYLINE','start_location','end_location','dist_travelled']]"
   ]
  },
  {
   "cell_type": "code",
   "execution_count": null,
   "metadata": {},
   "outputs": [],
   "source": [
    "len(near_distance)"
   ]
  },
  {
   "cell_type": "markdown",
   "metadata": {},
   "source": [
    "-------------------------------------------------------------------------------------------------------------------\n",
    "\n",
    "CALL_TYPE Column :\n",
    "\n"
   ]
  },
  {
   "cell_type": "code",
   "execution_count": 9,
   "metadata": {},
   "outputs": [],
   "source": [
    "df['CALL_TYPE']=le.transform(df['CALL_TYPE'])"
   ]
  },
  {
   "cell_type": "code",
   "execution_count": 10,
   "metadata": {},
   "outputs": [
    {
     "data": {
      "text/plain": [
       "B    817881\n",
       "C    528019\n",
       "A    364770\n",
       "Name: CALL_TYPE, dtype: int64"
      ]
     },
     "execution_count": 10,
     "metadata": {},
     "output_type": "execute_result"
    }
   ],
   "source": [
    "#Checking if we did right label encoding\n",
    "df['CALL_TYPE'].value_counts(ascending=False)"
   ]
  },
  {
   "cell_type": "markdown",
   "metadata": {},
   "source": [
    "------------------------------------------------------------------------------------------------------\n",
    "\n",
    "ORIGIN_CALL Column :\n",
    "\n",
    "It contains an unique identifier for each phone number which was used to demand, at least, one service.\n",
    "\n",
    "It identifies the trip’s customer if CALL_TYPE=’A’. Otherwise, it assumes a NULL value;"
   ]
  },
  {
   "cell_type": "markdown",
   "metadata": {},
   "source": [
    "------------------------------------------------------------------------------------------------------\n",
    "\n",
    "ORIGIN_STAND :\n",
    "\n",
    "It contains an unique identifier for each phone number which was used to demand, at least, one service.\n",
    "\n",
    "It identifies the trip’s customer if CALL_TYPE=’A’. Otherwise, it assumes a NULL value."
   ]
  },
  {
   "cell_type": "markdown",
   "metadata": {},
   "source": [
    "TAXI ID :\n",
    "\n",
    "It contains an unique identifier for the taxi driver that performed each trip."
   ]
  },
  {
   "cell_type": "code",
   "execution_count": null,
   "metadata": {},
   "outputs": [],
   "source": []
  },
  {
   "cell_type": "code",
   "execution_count": null,
   "metadata": {},
   "outputs": [],
   "source": []
  },
  {
   "cell_type": "code",
   "execution_count": null,
   "metadata": {},
   "outputs": [],
   "source": []
  },
  {
   "cell_type": "code",
   "execution_count": null,
   "metadata": {},
   "outputs": [],
   "source": [
    "#df['TIMESTAMP'].drop()"
   ]
  }
 ],
 "metadata": {
  "kernelspec": {
   "display_name": "Python 3",
   "language": "python",
   "name": "python3"
  },
  "language_info": {
   "codemirror_mode": {
    "name": "ipython",
    "version": 3
   },
   "file_extension": ".py",
   "mimetype": "text/x-python",
   "name": "python",
   "nbconvert_exporter": "python",
   "pygments_lexer": "ipython3",
   "version": "3.6.4"
  }
 },
 "nbformat": 4,
 "nbformat_minor": 2
}
