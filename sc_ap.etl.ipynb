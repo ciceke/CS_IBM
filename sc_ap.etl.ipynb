{
    "nbformat_minor": 1, 
    "cells": [
        {
            "source": "This notebook is part of the Coursera, IBM Advanced Data Science Capstone Project\n\nData used in this Capstone Project is found in UCI Machine Learning Repisotory on kaggle website titled as \"Air Pressure System Failures in Scania Trucks\" (https://www.kaggle.com/uciml/aps-failure-at-scania-trucks-data-set#aps_failure_training_set_processed_8bit.csv)\n\nIt is a structured, relational, tabular data in csv format.\nIt is not streaming (persistent) data.\n\nThis notebook is for the \"Extract Transform Load (ETL)\" stage of the Process Model used for this data science project.\n\nDeliverable of this notebook is the data to be used in other stages of the process.\n", 
            "cell_type": "markdown", 
            "metadata": {}
        }, 
        {
            "execution_count": 1, 
            "cell_type": "code", 
            "metadata": {}, 
            "outputs": [], 
            "source": "# Importing pandas for working with the dataframe\n\nimport pandas as pd\nimport numpy as np"
        }, 
        {
            "execution_count": 2, 
            "cell_type": "code", 
            "metadata": {}, 
            "outputs": [], 
            "source": "# The code was removed by Watson Studio for sharing."
        }, 
        {
            "execution_count": 20, 
            "cell_type": "code", 
            "metadata": {}, 
            "outputs": [
                {
                    "execution_count": 20, 
                    "metadata": {}, 
                    "data": {
                        "text/html": "<div>\n<style scoped>\n    .dataframe tbody tr th:only-of-type {\n        vertical-align: middle;\n    }\n\n    .dataframe tbody tr th {\n        vertical-align: top;\n    }\n\n    .dataframe thead th {\n        text-align: right;\n    }\n</style>\n<table border=\"1\" class=\"dataframe\">\n  <thead>\n    <tr style=\"text-align: right;\">\n      <th></th>\n      <th>class</th>\n      <th>aa_000</th>\n      <th>ab_000</th>\n      <th>ac_000</th>\n      <th>ad_000</th>\n      <th>ae_000</th>\n      <th>af_000</th>\n      <th>ag_000</th>\n      <th>ag_001</th>\n      <th>ag_002</th>\n      <th>...</th>\n      <th>ee_002</th>\n      <th>ee_003</th>\n      <th>ee_004</th>\n      <th>ee_005</th>\n      <th>ee_006</th>\n      <th>ee_007</th>\n      <th>ee_008</th>\n      <th>ee_009</th>\n      <th>ef_000</th>\n      <th>eg_000</th>\n    </tr>\n  </thead>\n  <tbody>\n    <tr>\n      <th>0</th>\n      <td>-0.992188</td>\n      <td>0.117188</td>\n      <td>-0.289062</td>\n      <td>0.992188</td>\n      <td>-0.007812</td>\n      <td>-0.046875</td>\n      <td>-0.054688</td>\n      <td>-0.007812</td>\n      <td>-0.03125</td>\n      <td>-0.054688</td>\n      <td>...</td>\n      <td>0.687500</td>\n      <td>0.515625</td>\n      <td>0.234375</td>\n      <td>0.070312</td>\n      <td>0.007812</td>\n      <td>-0.109375</td>\n      <td>-0.140625</td>\n      <td>-0.171875</td>\n      <td>-0.023438</td>\n      <td>-0.023438</td>\n    </tr>\n    <tr>\n      <th>1</th>\n      <td>-0.992188</td>\n      <td>-0.179688</td>\n      <td>-0.289062</td>\n      <td>-0.468750</td>\n      <td>-0.007812</td>\n      <td>-0.046875</td>\n      <td>-0.054688</td>\n      <td>-0.007812</td>\n      <td>-0.03125</td>\n      <td>-0.054688</td>\n      <td>...</td>\n      <td>-0.023438</td>\n      <td>-0.062500</td>\n      <td>-0.132812</td>\n      <td>-0.132812</td>\n      <td>-0.187500</td>\n      <td>-0.148438</td>\n      <td>-0.085938</td>\n      <td>-0.140625</td>\n      <td>-0.023438</td>\n      <td>-0.023438</td>\n    </tr>\n    <tr>\n      <th>2</th>\n      <td>-0.992188</td>\n      <td>-0.125000</td>\n      <td>-0.289062</td>\n      <td>-0.468750</td>\n      <td>-0.007812</td>\n      <td>-0.046875</td>\n      <td>-0.054688</td>\n      <td>-0.007812</td>\n      <td>-0.03125</td>\n      <td>-0.054688</td>\n      <td>...</td>\n      <td>-0.140625</td>\n      <td>-0.093750</td>\n      <td>-0.015625</td>\n      <td>0.015625</td>\n      <td>-0.007812</td>\n      <td>-0.109375</td>\n      <td>-0.093750</td>\n      <td>-0.164062</td>\n      <td>-0.023438</td>\n      <td>-0.023438</td>\n    </tr>\n    <tr>\n      <th>3</th>\n      <td>-0.992188</td>\n      <td>-0.406250</td>\n      <td>-0.289062</td>\n      <td>-0.468750</td>\n      <td>-0.007812</td>\n      <td>-0.046875</td>\n      <td>-0.007812</td>\n      <td>-0.007812</td>\n      <td>-0.03125</td>\n      <td>-0.054688</td>\n      <td>...</td>\n      <td>-0.382812</td>\n      <td>-0.382812</td>\n      <td>-0.375000</td>\n      <td>-0.351562</td>\n      <td>-0.312500</td>\n      <td>-0.195312</td>\n      <td>-0.304688</td>\n      <td>-0.171875</td>\n      <td>0.890625</td>\n      <td>0.992188</td>\n    </tr>\n    <tr>\n      <th>4</th>\n      <td>-0.992188</td>\n      <td>0.007812</td>\n      <td>-0.289062</td>\n      <td>-0.468750</td>\n      <td>-0.007812</td>\n      <td>-0.046875</td>\n      <td>-0.054688</td>\n      <td>-0.007812</td>\n      <td>-0.03125</td>\n      <td>-0.054688</td>\n      <td>...</td>\n      <td>0.156250</td>\n      <td>0.031250</td>\n      <td>-0.031250</td>\n      <td>-0.039062</td>\n      <td>-0.046875</td>\n      <td>-0.015625</td>\n      <td>0.656250</td>\n      <td>-0.148438</td>\n      <td>-0.023438</td>\n      <td>-0.023438</td>\n    </tr>\n  </tbody>\n</table>\n<p>5 rows \u00d7 171 columns</p>\n</div>", 
                        "text/plain": "      class    aa_000    ab_000    ac_000    ad_000    ae_000    af_000  \\\n0 -0.992188  0.117188 -0.289062  0.992188 -0.007812 -0.046875 -0.054688   \n1 -0.992188 -0.179688 -0.289062 -0.468750 -0.007812 -0.046875 -0.054688   \n2 -0.992188 -0.125000 -0.289062 -0.468750 -0.007812 -0.046875 -0.054688   \n3 -0.992188 -0.406250 -0.289062 -0.468750 -0.007812 -0.046875 -0.007812   \n4 -0.992188  0.007812 -0.289062 -0.468750 -0.007812 -0.046875 -0.054688   \n\n     ag_000   ag_001    ag_002    ...       ee_002    ee_003    ee_004  \\\n0 -0.007812 -0.03125 -0.054688    ...     0.687500  0.515625  0.234375   \n1 -0.007812 -0.03125 -0.054688    ...    -0.023438 -0.062500 -0.132812   \n2 -0.007812 -0.03125 -0.054688    ...    -0.140625 -0.093750 -0.015625   \n3 -0.007812 -0.03125 -0.054688    ...    -0.382812 -0.382812 -0.375000   \n4 -0.007812 -0.03125 -0.054688    ...     0.156250  0.031250 -0.031250   \n\n     ee_005    ee_006    ee_007    ee_008    ee_009    ef_000    eg_000  \n0  0.070312  0.007812 -0.109375 -0.140625 -0.171875 -0.023438 -0.023438  \n1 -0.132812 -0.187500 -0.148438 -0.085938 -0.140625 -0.023438 -0.023438  \n2  0.015625 -0.007812 -0.109375 -0.093750 -0.164062 -0.023438 -0.023438  \n3 -0.351562 -0.312500 -0.195312 -0.304688 -0.171875  0.890625  0.992188  \n4 -0.039062 -0.046875 -0.015625  0.656250 -0.148438 -0.023438 -0.023438  \n\n[5 rows x 171 columns]"
                    }, 
                    "output_type": "execute_result"
                }
            ], 
            "source": "df.head()"
        }, 
        {
            "execution_count": 23, 
            "cell_type": "code", 
            "metadata": {}, 
            "outputs": [
                {
                    "output_type": "stream", 
                    "name": "stdout", 
                    "text": "<class 'pandas.core.frame.DataFrame'>\nRangeIndex: 60000 entries, 0 to 59999\nColumns: 171 entries, class to eg_000\ndtypes: float64(171)\nmemory usage: 78.3 MB\n"
                }
            ], 
            "source": "df.info()"
        }, 
        {
            "source": "We have 171 features (all float data type) and a class column (also float data type, we need to make it categorical at the following stage)", 
            "cell_type": "markdown", 
            "metadata": {}
        }, 
        {
            "execution_count": 25, 
            "cell_type": "code", 
            "metadata": {}, 
            "outputs": [
                {
                    "execution_count": 25, 
                    "metadata": {}, 
                    "data": {
                        "text/plain": "0"
                    }, 
                    "output_type": "execute_result"
                }
            ], 
            "source": "df.isnull().sum().sum()"
        }, 
        {
            "source": "We have no na values within the dataframe", 
            "cell_type": "markdown", 
            "metadata": {}
        }, 
        {
            "source": "Dataframe can be used in other stages of the project without any transformation", 
            "cell_type": "markdown", 
            "metadata": {}
        }
    ], 
    "metadata": {
        "kernelspec": {
            "display_name": "Python 3.5 with Spark 2.1", 
            "name": "python3-spark21", 
            "language": "python"
        }, 
        "language_info": {
            "mimetype": "text/x-python", 
            "nbconvert_exporter": "python", 
            "version": "3.5.4", 
            "name": "python", 
            "file_extension": ".py", 
            "pygments_lexer": "ipython3", 
            "codemirror_mode": {
                "version": 3, 
                "name": "ipython"
            }
        }
    }, 
    "nbformat": 4
}